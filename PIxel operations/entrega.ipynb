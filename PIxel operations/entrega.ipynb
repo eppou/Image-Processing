{
 "cells": [
  {
   "cell_type": "code",
   "execution_count": 2,
   "metadata": {},
   "outputs": [],
   "source": [
    "## Importação de Bibliotecas\n",
    "import os\n",
    "import cv2\n",
    "import numpy as np\n",
    "import matplotlib.pyplot as plt\n"
   ]
  },
  {
   "cell_type": "markdown",
   "metadata": {},
   "source": [
    "Função para Ler e Preparar Imagens\n",
    "A primeira etapa é ler e preparar as imagens. A função prepare_image realiza as seguintes operações:\n",
    "\n",
    "    Lê a imagem do caminho especificado.\n",
    "    Converte a imagem de BGR (formato padrão do OpenCV) para RGB.\n",
    "    Normaliza a imagem, se necessário.\n",
    "    Redimensiona a imagem para um tamanho alvo.\n",
    "\n",
    "    "
   ]
  },
  {
   "cell_type": "code",
   "execution_count": 3,
   "metadata": {},
   "outputs": [],
   "source": [
    "def prepare_image(image_path, target_size):\n",
    "    image = cv2.imread(image_path)\n",
    "\n",
    "    if image is None:\n",
    "        print(f\"Erro ao carregar a imagem: {image_path}\")\n",
    "        return None\n",
    "\n",
    "    # Converter para RGB\n",
    "    image = cv2.cvtColor(image, cv2.COLOR_BGR2RGB)\n",
    "\n",
    "    # Normalizar se necessário\n",
    "    if image.max() > 255:\n",
    "        image = (image / image.max()) * 255\n",
    "\n",
    "    # Redimensionar para o tamanho desejado\n",
    "    image = cv2.resize(image, target_size)\n",
    "\n",
    "    return image\n"
   ]
  },
  {
   "cell_type": "markdown",
   "metadata": {},
   "source": [
    "*Função para Operações Aritméticas*\n",
    "\n",
    "\n",
    "A função apply_operations aplica operações aritméticas básicas: adição, subtração, multiplicação e divisão de uma constante à imagem.\n",
    "\n",
    "    Efeitos das Operações Aritméticas\n",
    "    Adição (cv2.add)\n",
    "    A adição de uma constante a uma imagem aumenta o valor de intensidade de cada pixel. Isso resulta em uma imagem mais clara, com aumento de brilho.\n",
    "\n",
    "    Subtração (cv2.subtract)\n",
    "    A subtração de uma constante de uma imagem diminui o valor de intensidade de cada pixel. Isso resulta em uma imagem mais escura, com diminuição de brilho.\n",
    "\n",
    "    Multiplicação (cv2.multiply)\n",
    "    A multiplicação de uma imagem por uma constante aumenta ou diminui o contraste da imagem. Se a constante for maior que 1, o contraste aumenta, e se for menor que 1, o contraste diminui.\n",
    "\n",
    "    Divisão (cv2.divide)\n",
    "    A divisão de uma imagem por uma constante tem um efeito inverso à multiplicação. Se a constante for maior que 1, o contraste da imagem diminui, e se for menor que 1, o contraste aumenta."
   ]
  },
  {
   "cell_type": "markdown",
   "metadata": {},
   "source": [
    "*Combinação de Imagens*\n",
    "A função combine_images combina duas imagens usando pesos definidos para cada uma. Esta combinação é útil para criar efeitos visuais interessantes."
   ]
  },
  {
   "cell_type": "code",
   "execution_count": 4,
   "metadata": {},
   "outputs": [],
   "source": [
    "def combine_images(image1, image2, alpha, beta, gamma):\n",
    "    return cv2.addWeighted(image1, alpha, image2, beta, gamma)\n"
   ]
  },
  {
   "cell_type": "markdown",
   "metadata": {},
   "source": [
    "Carregando as Imagens\n",
    "Aqui, especificamos os caminhos das imagens e o tamanho desejado para elas."
   ]
  },
  {
   "cell_type": "code",
   "execution_count": 5,
   "metadata": {},
   "outputs": [],
   "source": [
    "image_path1 = 'pal.jpg'\n",
    "image_path2 = 'pok.jpg'\n",
    "target_size = (500, 500)\n",
    "\n",
    "# Ler e preparar as imagens\n",
    "image1 = prepare_image(image_path1, target_size)\n",
    "image2 = prepare_image(image_path2, target_size)\n",
    "\n",
    "if image1 is None or image2 is None:\n",
    "    print(\"Erro ao carregar as imagens. Verifique os caminhos e tente novamente.\")\n",
    "    exit()\n"
   ]
  },
  {
   "cell_type": "markdown",
   "metadata": {},
   "source": [
    "Aplicando Operações Aritméticas\n",
    "Definimos uma constante e aplicamos as operações à primeira imagem."
   ]
  },
  {
   "cell_type": "code",
   "execution_count": 6,
   "metadata": {},
   "outputs": [
    {
     "ename": "NameError",
     "evalue": "name 'apply_operations' is not defined",
     "output_type": "error",
     "traceback": [
      "\u001b[0;31m---------------------------------------------------------------------------\u001b[0m",
      "\u001b[0;31mNameError\u001b[0m                                 Traceback (most recent call last)",
      "Cell \u001b[0;32mIn[6], line 2\u001b[0m\n\u001b[1;32m      1\u001b[0m constant \u001b[38;5;241m=\u001b[39m \u001b[38;5;241m50\u001b[39m\n\u001b[0;32m----> 2\u001b[0m added, subtracted, multiplied, divided \u001b[38;5;241m=\u001b[39m \u001b[43mapply_operations\u001b[49m(image1, constant)\n",
      "\u001b[0;31mNameError\u001b[0m: name 'apply_operations' is not defined"
     ]
    }
   ],
   "source": [
    "constant = 50\n",
    "added, subtracted, multiplied, divided = apply_operations(image1, constant)\n"
   ]
  },
  {
   "cell_type": "markdown",
   "metadata": {},
   "source": [
    "Combinando as Imagens\n",
    "Aqui, combinamos as duas imagens usando pesos iguais."
   ]
  },
  {
   "cell_type": "code",
   "execution_count": null,
   "metadata": {},
   "outputs": [],
   "source": [
    "alpha, beta, gamma = 0.5, 0.5, 0\n",
    "combined_image = combine_images(image1, image2, alpha, beta, gamma)\n"
   ]
  },
  {
   "cell_type": "markdown",
   "metadata": {},
   "source": [
    "Exibindo os Resultados\n",
    "Utilizamos Matplotlib para mostrar as imagens originais e resultantes."
   ]
  },
  {
   "cell_type": "code",
   "execution_count": null,
   "metadata": {},
   "outputs": [],
   "source": [
    "fig, axs = plt.subplots(2, 4, figsize=(20, 10))\n",
    "\n",
    "axs[0, 0].imshow(image1)\n",
    "axs[0, 0].set_title(\"Imagem Original 1\")\n",
    "axs[0, 1].imshow(added)\n",
    "axs[0, 1].set_title(f\"Imagem + {constant}\")\n",
    "axs[0, 2].imshow(subtracted)\n",
    "axs[0, 2].set_title(f\"Imagem - {constant}\")\n",
    "axs[0, 3].imshow(multiplied)\n",
    "axs[0, 3].set_title(f\"Imagem * {constant}\")\n",
    "\n",
    "axs[1, 0].imshow(image2)\n",
    "axs[1, 0].set_title(\"Imagem Original 2\")\n",
    "axs[1, 1].imshow(divided)\n",
    "axs[1, 1].set_title(f\"Imagem / {constant}\")\n",
    "axs[1, 2].imshow(combined_image)\n",
    "axs[1, 2].set_title(\"Imagem Combinada\")\n",
    "axs[1, 3].axis('off')\n",
    "\n",
    "for ax in axs.flat:\n",
    "    ax.axis('off')\n",
    "\n",
    "plt.show()\n"
   ]
  },
  {
   "cell_type": "markdown",
   "metadata": {},
   "source": [
    "*por fim ploto e faço uma \"analise\" das imagens*"
   ]
  },
  {
   "cell_type": "code",
   "execution_count": null,
   "metadata": {},
   "outputs": [],
   "source": [
    "def analyze_results(image1, added, subtracted, multiplied, divided, combined_image):\n",
    "    print(\"Comparação da Imagem Original com as Resultantes:\")\n",
    "    print(\"Imagem Original vs Imagem + Constante:\")\n",
    "    print(\"- Contraste aumentado, brilho geral aumentado.\")\n",
    "\n",
    "    print(\"Imagem Original vs Imagem - Constante:\")\n",
    "    print(\"- Contraste diminuído, brilho geral diminuído.\")\n",
    "\n",
    "    print(\"Imagem Original vs Imagem * Constante:\")\n",
    "    print(\"- Contraste e brilho ajustados de acordo com o valor da constante.\")\n",
    "\n",
    "    print(\"Imagem Original vs Imagem / Constante:\")\n",
    "    print(\"- Contraste e brilho ajustados inversamente ao valor da constante.\")\n",
    "\n",
    "    print(\"Imagem Original vs Imagem Combinada:\")\n",
    "    print(\"- Influência das duas imagens controlada pelos pesos alpha e beta.\")\n",
    "\n",
    "analyze_results(image1, added, subtracted, multiplied, divided, combined_image)\n"
   ]
  }
 ],
 "metadata": {
  "kernelspec": {
   "display_name": "Python 3",
   "language": "python",
   "name": "python3"
  },
  "language_info": {
   "codemirror_mode": {
    "name": "ipython",
    "version": 3
   },
   "file_extension": ".py",
   "mimetype": "text/x-python",
   "name": "python",
   "nbconvert_exporter": "python",
   "pygments_lexer": "ipython3",
   "version": "3.10.12"
  }
 },
 "nbformat": 4,
 "nbformat_minor": 2
}
